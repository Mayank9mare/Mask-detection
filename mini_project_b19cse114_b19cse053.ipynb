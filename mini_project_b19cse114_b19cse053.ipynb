{
  "nbformat": 4,
  "nbformat_minor": 0,
  "metadata": {
    "colab": {
      "name": "mini_project_b19cse114_b19cse053.ipynb",
      "provenance": [],
      "collapsed_sections": []
    },
    "kernelspec": {
      "name": "python3",
      "display_name": "Python 3"
    },
    "language_info": {
      "name": "python"
    }
  },
  "cells": [
    {
      "cell_type": "code",
      "metadata": {
        "id": "ehyxaQjpBBwg"
      },
      "source": [
        "import pandas as pd\n",
        "import numpy as np\n",
        "import seaborn as sns\n",
        "from matplotlib import pyplot as plt\n",
        "from matplotlib import rcParams\n",
        "from sklearn.ensemble import RandomForestClassifier\n",
        "rcParams['figure.figsize']= 5,5\n",
        "from sklearn.model_selection import train_test_split,cross_val_score\n",
        "from sklearn.ensemble import RandomForestClassifier\n",
        "from sklearn.ensemble import VotingClassifier\n",
        "from sklearn.linear_model import LogisticRegression\n",
        "from sklearn.preprocessing import StandardScaler\n",
        "from keras.models import Sequential\n",
        "from keras.layers import Dense\n",
        "from sklearn.neural_network import MLPClassifier\n",
        "import seaborn as sns\n",
        "from sklearn.metrics import confusion_matrix,roc_curve,auc"
      ],
      "execution_count": 245,
      "outputs": []
    },
    {
      "cell_type": "code",
      "metadata": {
        "id": "VHDNtwWXCpyF",
        "colab": {
          "base_uri": "https://localhost:8080/"
        },
        "outputId": "e72832db-e486-49d6-dc24-f58495f8d042"
      },
      "source": [
        "from google.colab import drive\n",
        "drive.mount('/content/drive')"
      ],
      "execution_count": null,
      "outputs": [
        {
          "output_type": "stream",
          "text": [
            "Drive already mounted at /content/drive; to attempt to forcibly remount, call drive.mount(\"/content/drive\", force_remount=True).\n"
          ],
          "name": "stdout"
        }
      ]
    },
    {
      "cell_type": "code",
      "metadata": {
        "colab": {
          "base_uri": "https://localhost:8080/",
          "height": 244
        },
        "id": "-_AZMo8GNtTk",
        "outputId": "64691915-813f-487c-8196-50c112822fcb"
      },
      "source": [
        "df=pd.read_csv(\"/content/drive/MyDrive/bonus_dataset/data_64.csv\")\n",
        "df.head()"
      ],
      "execution_count": null,
      "outputs": [
        {
          "output_type": "execute_result",
          "data": {
            "text/html": [
              "<div>\n",
              "<style scoped>\n",
              "    .dataframe tbody tr th:only-of-type {\n",
              "        vertical-align: middle;\n",
              "    }\n",
              "\n",
              "    .dataframe tbody tr th {\n",
              "        vertical-align: top;\n",
              "    }\n",
              "\n",
              "    .dataframe thead th {\n",
              "        text-align: right;\n",
              "    }\n",
              "</style>\n",
              "<table border=\"1\" class=\"dataframe\">\n",
              "  <thead>\n",
              "    <tr style=\"text-align: right;\">\n",
              "      <th></th>\n",
              "      <th>f0</th>\n",
              "      <th>f1</th>\n",
              "      <th>f2</th>\n",
              "      <th>f3</th>\n",
              "      <th>f4</th>\n",
              "      <th>f5</th>\n",
              "      <th>f6</th>\n",
              "      <th>f7</th>\n",
              "      <th>f8</th>\n",
              "      <th>f9</th>\n",
              "      <th>f10</th>\n",
              "      <th>f11</th>\n",
              "      <th>f12</th>\n",
              "      <th>f13</th>\n",
              "      <th>f14</th>\n",
              "      <th>f15</th>\n",
              "      <th>f16</th>\n",
              "      <th>f17</th>\n",
              "      <th>f18</th>\n",
              "      <th>f19</th>\n",
              "      <th>f20</th>\n",
              "      <th>f21</th>\n",
              "      <th>f22</th>\n",
              "      <th>f23</th>\n",
              "      <th>f24</th>\n",
              "      <th>f25</th>\n",
              "      <th>f26</th>\n",
              "      <th>f27</th>\n",
              "      <th>f28</th>\n",
              "      <th>f29</th>\n",
              "      <th>f30</th>\n",
              "      <th>f31</th>\n",
              "      <th>f32</th>\n",
              "      <th>f33</th>\n",
              "      <th>f34</th>\n",
              "      <th>f35</th>\n",
              "      <th>f36</th>\n",
              "      <th>f37</th>\n",
              "      <th>f38</th>\n",
              "      <th>f39</th>\n",
              "      <th>...</th>\n",
              "      <th>f12249</th>\n",
              "      <th>f12250</th>\n",
              "      <th>f12251</th>\n",
              "      <th>f12252</th>\n",
              "      <th>f12253</th>\n",
              "      <th>f12254</th>\n",
              "      <th>f12255</th>\n",
              "      <th>f12256</th>\n",
              "      <th>f12257</th>\n",
              "      <th>f12258</th>\n",
              "      <th>f12259</th>\n",
              "      <th>f12260</th>\n",
              "      <th>f12261</th>\n",
              "      <th>f12262</th>\n",
              "      <th>f12263</th>\n",
              "      <th>f12264</th>\n",
              "      <th>f12265</th>\n",
              "      <th>f12266</th>\n",
              "      <th>f12267</th>\n",
              "      <th>f12268</th>\n",
              "      <th>f12269</th>\n",
              "      <th>f12270</th>\n",
              "      <th>f12271</th>\n",
              "      <th>f12272</th>\n",
              "      <th>f12273</th>\n",
              "      <th>f12274</th>\n",
              "      <th>f12275</th>\n",
              "      <th>f12276</th>\n",
              "      <th>f12277</th>\n",
              "      <th>f12278</th>\n",
              "      <th>f12279</th>\n",
              "      <th>f12280</th>\n",
              "      <th>f12281</th>\n",
              "      <th>f12282</th>\n",
              "      <th>f12283</th>\n",
              "      <th>f12284</th>\n",
              "      <th>f12285</th>\n",
              "      <th>f12286</th>\n",
              "      <th>f12287</th>\n",
              "      <th>labels</th>\n",
              "    </tr>\n",
              "  </thead>\n",
              "  <tbody>\n",
              "    <tr>\n",
              "      <th>0</th>\n",
              "      <td>133</td>\n",
              "      <td>97</td>\n",
              "      <td>89</td>\n",
              "      <td>125</td>\n",
              "      <td>91</td>\n",
              "      <td>82</td>\n",
              "      <td>123</td>\n",
              "      <td>91</td>\n",
              "      <td>83</td>\n",
              "      <td>123</td>\n",
              "      <td>94</td>\n",
              "      <td>87</td>\n",
              "      <td>121</td>\n",
              "      <td>93</td>\n",
              "      <td>87</td>\n",
              "      <td>121</td>\n",
              "      <td>97</td>\n",
              "      <td>90</td>\n",
              "      <td>123</td>\n",
              "      <td>99</td>\n",
              "      <td>93</td>\n",
              "      <td>119</td>\n",
              "      <td>96</td>\n",
              "      <td>90</td>\n",
              "      <td>119</td>\n",
              "      <td>97</td>\n",
              "      <td>91</td>\n",
              "      <td>124</td>\n",
              "      <td>101</td>\n",
              "      <td>93</td>\n",
              "      <td>127</td>\n",
              "      <td>104</td>\n",
              "      <td>93</td>\n",
              "      <td>129</td>\n",
              "      <td>104</td>\n",
              "      <td>94</td>\n",
              "      <td>133</td>\n",
              "      <td>108</td>\n",
              "      <td>98</td>\n",
              "      <td>130</td>\n",
              "      <td>...</td>\n",
              "      <td>52</td>\n",
              "      <td>50</td>\n",
              "      <td>49</td>\n",
              "      <td>58</td>\n",
              "      <td>56</td>\n",
              "      <td>55</td>\n",
              "      <td>59</td>\n",
              "      <td>54</td>\n",
              "      <td>55</td>\n",
              "      <td>61</td>\n",
              "      <td>56</td>\n",
              "      <td>57</td>\n",
              "      <td>57</td>\n",
              "      <td>52</td>\n",
              "      <td>53</td>\n",
              "      <td>34</td>\n",
              "      <td>30</td>\n",
              "      <td>30</td>\n",
              "      <td>24</td>\n",
              "      <td>20</td>\n",
              "      <td>19</td>\n",
              "      <td>29</td>\n",
              "      <td>25</td>\n",
              "      <td>24</td>\n",
              "      <td>28</td>\n",
              "      <td>24</td>\n",
              "      <td>23</td>\n",
              "      <td>28</td>\n",
              "      <td>24</td>\n",
              "      <td>24</td>\n",
              "      <td>30</td>\n",
              "      <td>25</td>\n",
              "      <td>26</td>\n",
              "      <td>30</td>\n",
              "      <td>25</td>\n",
              "      <td>26</td>\n",
              "      <td>31</td>\n",
              "      <td>26</td>\n",
              "      <td>27</td>\n",
              "      <td>1</td>\n",
              "    </tr>\n",
              "    <tr>\n",
              "      <th>1</th>\n",
              "      <td>240</td>\n",
              "      <td>246</td>\n",
              "      <td>245</td>\n",
              "      <td>245</td>\n",
              "      <td>251</td>\n",
              "      <td>250</td>\n",
              "      <td>250</td>\n",
              "      <td>254</td>\n",
              "      <td>253</td>\n",
              "      <td>252</td>\n",
              "      <td>254</td>\n",
              "      <td>254</td>\n",
              "      <td>252</td>\n",
              "      <td>254</td>\n",
              "      <td>254</td>\n",
              "      <td>253</td>\n",
              "      <td>255</td>\n",
              "      <td>255</td>\n",
              "      <td>250</td>\n",
              "      <td>254</td>\n",
              "      <td>254</td>\n",
              "      <td>247</td>\n",
              "      <td>252</td>\n",
              "      <td>251</td>\n",
              "      <td>245</td>\n",
              "      <td>250</td>\n",
              "      <td>252</td>\n",
              "      <td>230</td>\n",
              "      <td>235</td>\n",
              "      <td>242</td>\n",
              "      <td>208</td>\n",
              "      <td>211</td>\n",
              "      <td>229</td>\n",
              "      <td>216</td>\n",
              "      <td>218</td>\n",
              "      <td>247</td>\n",
              "      <td>165</td>\n",
              "      <td>165</td>\n",
              "      <td>207</td>\n",
              "      <td>160</td>\n",
              "      <td>...</td>\n",
              "      <td>242</td>\n",
              "      <td>236</td>\n",
              "      <td>234</td>\n",
              "      <td>234</td>\n",
              "      <td>230</td>\n",
              "      <td>228</td>\n",
              "      <td>228</td>\n",
              "      <td>223</td>\n",
              "      <td>222</td>\n",
              "      <td>230</td>\n",
              "      <td>224</td>\n",
              "      <td>221</td>\n",
              "      <td>227</td>\n",
              "      <td>219</td>\n",
              "      <td>216</td>\n",
              "      <td>228</td>\n",
              "      <td>217</td>\n",
              "      <td>213</td>\n",
              "      <td>224</td>\n",
              "      <td>209</td>\n",
              "      <td>205</td>\n",
              "      <td>223</td>\n",
              "      <td>204</td>\n",
              "      <td>199</td>\n",
              "      <td>225</td>\n",
              "      <td>206</td>\n",
              "      <td>201</td>\n",
              "      <td>220</td>\n",
              "      <td>207</td>\n",
              "      <td>199</td>\n",
              "      <td>214</td>\n",
              "      <td>208</td>\n",
              "      <td>198</td>\n",
              "      <td>215</td>\n",
              "      <td>215</td>\n",
              "      <td>211</td>\n",
              "      <td>194</td>\n",
              "      <td>198</td>\n",
              "      <td>204</td>\n",
              "      <td>1</td>\n",
              "    </tr>\n",
              "    <tr>\n",
              "      <th>2</th>\n",
              "      <td>220</td>\n",
              "      <td>211</td>\n",
              "      <td>211</td>\n",
              "      <td>219</td>\n",
              "      <td>215</td>\n",
              "      <td>213</td>\n",
              "      <td>220</td>\n",
              "      <td>218</td>\n",
              "      <td>216</td>\n",
              "      <td>224</td>\n",
              "      <td>221</td>\n",
              "      <td>219</td>\n",
              "      <td>228</td>\n",
              "      <td>223</td>\n",
              "      <td>222</td>\n",
              "      <td>231</td>\n",
              "      <td>226</td>\n",
              "      <td>224</td>\n",
              "      <td>231</td>\n",
              "      <td>228</td>\n",
              "      <td>226</td>\n",
              "      <td>234</td>\n",
              "      <td>230</td>\n",
              "      <td>229</td>\n",
              "      <td>237</td>\n",
              "      <td>233</td>\n",
              "      <td>231</td>\n",
              "      <td>239</td>\n",
              "      <td>235</td>\n",
              "      <td>234</td>\n",
              "      <td>239</td>\n",
              "      <td>236</td>\n",
              "      <td>235</td>\n",
              "      <td>238</td>\n",
              "      <td>237</td>\n",
              "      <td>235</td>\n",
              "      <td>238</td>\n",
              "      <td>237</td>\n",
              "      <td>235</td>\n",
              "      <td>238</td>\n",
              "      <td>...</td>\n",
              "      <td>255</td>\n",
              "      <td>255</td>\n",
              "      <td>255</td>\n",
              "      <td>255</td>\n",
              "      <td>255</td>\n",
              "      <td>255</td>\n",
              "      <td>255</td>\n",
              "      <td>255</td>\n",
              "      <td>255</td>\n",
              "      <td>255</td>\n",
              "      <td>255</td>\n",
              "      <td>255</td>\n",
              "      <td>255</td>\n",
              "      <td>255</td>\n",
              "      <td>255</td>\n",
              "      <td>255</td>\n",
              "      <td>255</td>\n",
              "      <td>255</td>\n",
              "      <td>255</td>\n",
              "      <td>255</td>\n",
              "      <td>255</td>\n",
              "      <td>255</td>\n",
              "      <td>255</td>\n",
              "      <td>255</td>\n",
              "      <td>255</td>\n",
              "      <td>255</td>\n",
              "      <td>255</td>\n",
              "      <td>255</td>\n",
              "      <td>255</td>\n",
              "      <td>255</td>\n",
              "      <td>255</td>\n",
              "      <td>255</td>\n",
              "      <td>255</td>\n",
              "      <td>255</td>\n",
              "      <td>255</td>\n",
              "      <td>255</td>\n",
              "      <td>255</td>\n",
              "      <td>255</td>\n",
              "      <td>255</td>\n",
              "      <td>1</td>\n",
              "    </tr>\n",
              "    <tr>\n",
              "      <th>3</th>\n",
              "      <td>85</td>\n",
              "      <td>83</td>\n",
              "      <td>100</td>\n",
              "      <td>103</td>\n",
              "      <td>101</td>\n",
              "      <td>118</td>\n",
              "      <td>114</td>\n",
              "      <td>115</td>\n",
              "      <td>132</td>\n",
              "      <td>128</td>\n",
              "      <td>133</td>\n",
              "      <td>150</td>\n",
              "      <td>143</td>\n",
              "      <td>151</td>\n",
              "      <td>169</td>\n",
              "      <td>145</td>\n",
              "      <td>157</td>\n",
              "      <td>178</td>\n",
              "      <td>139</td>\n",
              "      <td>154</td>\n",
              "      <td>178</td>\n",
              "      <td>135</td>\n",
              "      <td>151</td>\n",
              "      <td>177</td>\n",
              "      <td>128</td>\n",
              "      <td>144</td>\n",
              "      <td>171</td>\n",
              "      <td>124</td>\n",
              "      <td>137</td>\n",
              "      <td>165</td>\n",
              "      <td>127</td>\n",
              "      <td>137</td>\n",
              "      <td>164</td>\n",
              "      <td>129</td>\n",
              "      <td>135</td>\n",
              "      <td>163</td>\n",
              "      <td>138</td>\n",
              "      <td>143</td>\n",
              "      <td>169</td>\n",
              "      <td>138</td>\n",
              "      <td>...</td>\n",
              "      <td>56</td>\n",
              "      <td>50</td>\n",
              "      <td>71</td>\n",
              "      <td>64</td>\n",
              "      <td>50</td>\n",
              "      <td>78</td>\n",
              "      <td>65</td>\n",
              "      <td>51</td>\n",
              "      <td>81</td>\n",
              "      <td>63</td>\n",
              "      <td>49</td>\n",
              "      <td>84</td>\n",
              "      <td>63</td>\n",
              "      <td>48</td>\n",
              "      <td>86</td>\n",
              "      <td>63</td>\n",
              "      <td>48</td>\n",
              "      <td>91</td>\n",
              "      <td>65</td>\n",
              "      <td>49</td>\n",
              "      <td>97</td>\n",
              "      <td>68</td>\n",
              "      <td>52</td>\n",
              "      <td>103</td>\n",
              "      <td>69</td>\n",
              "      <td>54</td>\n",
              "      <td>107</td>\n",
              "      <td>66</td>\n",
              "      <td>52</td>\n",
              "      <td>107</td>\n",
              "      <td>69</td>\n",
              "      <td>55</td>\n",
              "      <td>113</td>\n",
              "      <td>71</td>\n",
              "      <td>57</td>\n",
              "      <td>118</td>\n",
              "      <td>67</td>\n",
              "      <td>55</td>\n",
              "      <td>117</td>\n",
              "      <td>1</td>\n",
              "    </tr>\n",
              "    <tr>\n",
              "      <th>4</th>\n",
              "      <td>46</td>\n",
              "      <td>52</td>\n",
              "      <td>65</td>\n",
              "      <td>36</td>\n",
              "      <td>42</td>\n",
              "      <td>55</td>\n",
              "      <td>27</td>\n",
              "      <td>33</td>\n",
              "      <td>46</td>\n",
              "      <td>24</td>\n",
              "      <td>31</td>\n",
              "      <td>44</td>\n",
              "      <td>25</td>\n",
              "      <td>33</td>\n",
              "      <td>46</td>\n",
              "      <td>31</td>\n",
              "      <td>38</td>\n",
              "      <td>53</td>\n",
              "      <td>42</td>\n",
              "      <td>49</td>\n",
              "      <td>64</td>\n",
              "      <td>50</td>\n",
              "      <td>58</td>\n",
              "      <td>74</td>\n",
              "      <td>50</td>\n",
              "      <td>59</td>\n",
              "      <td>75</td>\n",
              "      <td>49</td>\n",
              "      <td>56</td>\n",
              "      <td>75</td>\n",
              "      <td>43</td>\n",
              "      <td>52</td>\n",
              "      <td>72</td>\n",
              "      <td>42</td>\n",
              "      <td>50</td>\n",
              "      <td>73</td>\n",
              "      <td>51</td>\n",
              "      <td>59</td>\n",
              "      <td>83</td>\n",
              "      <td>58</td>\n",
              "      <td>...</td>\n",
              "      <td>208</td>\n",
              "      <td>193</td>\n",
              "      <td>198</td>\n",
              "      <td>253</td>\n",
              "      <td>247</td>\n",
              "      <td>255</td>\n",
              "      <td>243</td>\n",
              "      <td>245</td>\n",
              "      <td>254</td>\n",
              "      <td>188</td>\n",
              "      <td>196</td>\n",
              "      <td>207</td>\n",
              "      <td>191</td>\n",
              "      <td>205</td>\n",
              "      <td>211</td>\n",
              "      <td>223</td>\n",
              "      <td>239</td>\n",
              "      <td>241</td>\n",
              "      <td>210</td>\n",
              "      <td>220</td>\n",
              "      <td>225</td>\n",
              "      <td>211</td>\n",
              "      <td>204</td>\n",
              "      <td>222</td>\n",
              "      <td>201</td>\n",
              "      <td>195</td>\n",
              "      <td>211</td>\n",
              "      <td>188</td>\n",
              "      <td>183</td>\n",
              "      <td>196</td>\n",
              "      <td>119</td>\n",
              "      <td>114</td>\n",
              "      <td>124</td>\n",
              "      <td>71</td>\n",
              "      <td>67</td>\n",
              "      <td>73</td>\n",
              "      <td>58</td>\n",
              "      <td>52</td>\n",
              "      <td>56</td>\n",
              "      <td>1</td>\n",
              "    </tr>\n",
              "  </tbody>\n",
              "</table>\n",
              "<p>5 rows × 12289 columns</p>\n",
              "</div>"
            ],
            "text/plain": [
              "    f0   f1   f2   f3   f4   f5  ...  f12283  f12284  f12285  f12286  f12287  labels\n",
              "0  133   97   89  125   91   82  ...      25      26      31      26      27       1\n",
              "1  240  246  245  245  251  250  ...     215     211     194     198     204       1\n",
              "2  220  211  211  219  215  213  ...     255     255     255     255     255       1\n",
              "3   85   83  100  103  101  118  ...      57     118      67      55     117       1\n",
              "4   46   52   65   36   42   55  ...      67      73      58      52      56       1\n",
              "\n",
              "[5 rows x 12289 columns]"
            ]
          },
          "metadata": {
            "tags": []
          },
          "execution_count": 198
        }
      ]
    },
    {
      "cell_type": "code",
      "metadata": {
        "colab": {
          "base_uri": "https://localhost:8080/",
          "height": 244
        },
        "id": "-DW9WhuHNt8T",
        "outputId": "5d1eb97d-2e2b-4642-977e-a2a75b0923f9"
      },
      "source": [
        "x=df.iloc[:,:-1]\n",
        "y=df.iloc[:,-1]\n",
        "x.head()"
      ],
      "execution_count": null,
      "outputs": [
        {
          "output_type": "execute_result",
          "data": {
            "text/html": [
              "<div>\n",
              "<style scoped>\n",
              "    .dataframe tbody tr th:only-of-type {\n",
              "        vertical-align: middle;\n",
              "    }\n",
              "\n",
              "    .dataframe tbody tr th {\n",
              "        vertical-align: top;\n",
              "    }\n",
              "\n",
              "    .dataframe thead th {\n",
              "        text-align: right;\n",
              "    }\n",
              "</style>\n",
              "<table border=\"1\" class=\"dataframe\">\n",
              "  <thead>\n",
              "    <tr style=\"text-align: right;\">\n",
              "      <th></th>\n",
              "      <th>f0</th>\n",
              "      <th>f1</th>\n",
              "      <th>f2</th>\n",
              "      <th>f3</th>\n",
              "      <th>f4</th>\n",
              "      <th>f5</th>\n",
              "      <th>f6</th>\n",
              "      <th>f7</th>\n",
              "      <th>f8</th>\n",
              "      <th>f9</th>\n",
              "      <th>f10</th>\n",
              "      <th>f11</th>\n",
              "      <th>f12</th>\n",
              "      <th>f13</th>\n",
              "      <th>f14</th>\n",
              "      <th>f15</th>\n",
              "      <th>f16</th>\n",
              "      <th>f17</th>\n",
              "      <th>f18</th>\n",
              "      <th>f19</th>\n",
              "      <th>f20</th>\n",
              "      <th>f21</th>\n",
              "      <th>f22</th>\n",
              "      <th>f23</th>\n",
              "      <th>f24</th>\n",
              "      <th>f25</th>\n",
              "      <th>f26</th>\n",
              "      <th>f27</th>\n",
              "      <th>f28</th>\n",
              "      <th>f29</th>\n",
              "      <th>f30</th>\n",
              "      <th>f31</th>\n",
              "      <th>f32</th>\n",
              "      <th>f33</th>\n",
              "      <th>f34</th>\n",
              "      <th>f35</th>\n",
              "      <th>f36</th>\n",
              "      <th>f37</th>\n",
              "      <th>f38</th>\n",
              "      <th>f39</th>\n",
              "      <th>...</th>\n",
              "      <th>f12248</th>\n",
              "      <th>f12249</th>\n",
              "      <th>f12250</th>\n",
              "      <th>f12251</th>\n",
              "      <th>f12252</th>\n",
              "      <th>f12253</th>\n",
              "      <th>f12254</th>\n",
              "      <th>f12255</th>\n",
              "      <th>f12256</th>\n",
              "      <th>f12257</th>\n",
              "      <th>f12258</th>\n",
              "      <th>f12259</th>\n",
              "      <th>f12260</th>\n",
              "      <th>f12261</th>\n",
              "      <th>f12262</th>\n",
              "      <th>f12263</th>\n",
              "      <th>f12264</th>\n",
              "      <th>f12265</th>\n",
              "      <th>f12266</th>\n",
              "      <th>f12267</th>\n",
              "      <th>f12268</th>\n",
              "      <th>f12269</th>\n",
              "      <th>f12270</th>\n",
              "      <th>f12271</th>\n",
              "      <th>f12272</th>\n",
              "      <th>f12273</th>\n",
              "      <th>f12274</th>\n",
              "      <th>f12275</th>\n",
              "      <th>f12276</th>\n",
              "      <th>f12277</th>\n",
              "      <th>f12278</th>\n",
              "      <th>f12279</th>\n",
              "      <th>f12280</th>\n",
              "      <th>f12281</th>\n",
              "      <th>f12282</th>\n",
              "      <th>f12283</th>\n",
              "      <th>f12284</th>\n",
              "      <th>f12285</th>\n",
              "      <th>f12286</th>\n",
              "      <th>f12287</th>\n",
              "    </tr>\n",
              "  </thead>\n",
              "  <tbody>\n",
              "    <tr>\n",
              "      <th>0</th>\n",
              "      <td>133</td>\n",
              "      <td>97</td>\n",
              "      <td>89</td>\n",
              "      <td>125</td>\n",
              "      <td>91</td>\n",
              "      <td>82</td>\n",
              "      <td>123</td>\n",
              "      <td>91</td>\n",
              "      <td>83</td>\n",
              "      <td>123</td>\n",
              "      <td>94</td>\n",
              "      <td>87</td>\n",
              "      <td>121</td>\n",
              "      <td>93</td>\n",
              "      <td>87</td>\n",
              "      <td>121</td>\n",
              "      <td>97</td>\n",
              "      <td>90</td>\n",
              "      <td>123</td>\n",
              "      <td>99</td>\n",
              "      <td>93</td>\n",
              "      <td>119</td>\n",
              "      <td>96</td>\n",
              "      <td>90</td>\n",
              "      <td>119</td>\n",
              "      <td>97</td>\n",
              "      <td>91</td>\n",
              "      <td>124</td>\n",
              "      <td>101</td>\n",
              "      <td>93</td>\n",
              "      <td>127</td>\n",
              "      <td>104</td>\n",
              "      <td>93</td>\n",
              "      <td>129</td>\n",
              "      <td>104</td>\n",
              "      <td>94</td>\n",
              "      <td>133</td>\n",
              "      <td>108</td>\n",
              "      <td>98</td>\n",
              "      <td>130</td>\n",
              "      <td>...</td>\n",
              "      <td>48</td>\n",
              "      <td>52</td>\n",
              "      <td>50</td>\n",
              "      <td>49</td>\n",
              "      <td>58</td>\n",
              "      <td>56</td>\n",
              "      <td>55</td>\n",
              "      <td>59</td>\n",
              "      <td>54</td>\n",
              "      <td>55</td>\n",
              "      <td>61</td>\n",
              "      <td>56</td>\n",
              "      <td>57</td>\n",
              "      <td>57</td>\n",
              "      <td>52</td>\n",
              "      <td>53</td>\n",
              "      <td>34</td>\n",
              "      <td>30</td>\n",
              "      <td>30</td>\n",
              "      <td>24</td>\n",
              "      <td>20</td>\n",
              "      <td>19</td>\n",
              "      <td>29</td>\n",
              "      <td>25</td>\n",
              "      <td>24</td>\n",
              "      <td>28</td>\n",
              "      <td>24</td>\n",
              "      <td>23</td>\n",
              "      <td>28</td>\n",
              "      <td>24</td>\n",
              "      <td>24</td>\n",
              "      <td>30</td>\n",
              "      <td>25</td>\n",
              "      <td>26</td>\n",
              "      <td>30</td>\n",
              "      <td>25</td>\n",
              "      <td>26</td>\n",
              "      <td>31</td>\n",
              "      <td>26</td>\n",
              "      <td>27</td>\n",
              "    </tr>\n",
              "    <tr>\n",
              "      <th>1</th>\n",
              "      <td>240</td>\n",
              "      <td>246</td>\n",
              "      <td>245</td>\n",
              "      <td>245</td>\n",
              "      <td>251</td>\n",
              "      <td>250</td>\n",
              "      <td>250</td>\n",
              "      <td>254</td>\n",
              "      <td>253</td>\n",
              "      <td>252</td>\n",
              "      <td>254</td>\n",
              "      <td>254</td>\n",
              "      <td>252</td>\n",
              "      <td>254</td>\n",
              "      <td>254</td>\n",
              "      <td>253</td>\n",
              "      <td>255</td>\n",
              "      <td>255</td>\n",
              "      <td>250</td>\n",
              "      <td>254</td>\n",
              "      <td>254</td>\n",
              "      <td>247</td>\n",
              "      <td>252</td>\n",
              "      <td>251</td>\n",
              "      <td>245</td>\n",
              "      <td>250</td>\n",
              "      <td>252</td>\n",
              "      <td>230</td>\n",
              "      <td>235</td>\n",
              "      <td>242</td>\n",
              "      <td>208</td>\n",
              "      <td>211</td>\n",
              "      <td>229</td>\n",
              "      <td>216</td>\n",
              "      <td>218</td>\n",
              "      <td>247</td>\n",
              "      <td>165</td>\n",
              "      <td>165</td>\n",
              "      <td>207</td>\n",
              "      <td>160</td>\n",
              "      <td>...</td>\n",
              "      <td>239</td>\n",
              "      <td>242</td>\n",
              "      <td>236</td>\n",
              "      <td>234</td>\n",
              "      <td>234</td>\n",
              "      <td>230</td>\n",
              "      <td>228</td>\n",
              "      <td>228</td>\n",
              "      <td>223</td>\n",
              "      <td>222</td>\n",
              "      <td>230</td>\n",
              "      <td>224</td>\n",
              "      <td>221</td>\n",
              "      <td>227</td>\n",
              "      <td>219</td>\n",
              "      <td>216</td>\n",
              "      <td>228</td>\n",
              "      <td>217</td>\n",
              "      <td>213</td>\n",
              "      <td>224</td>\n",
              "      <td>209</td>\n",
              "      <td>205</td>\n",
              "      <td>223</td>\n",
              "      <td>204</td>\n",
              "      <td>199</td>\n",
              "      <td>225</td>\n",
              "      <td>206</td>\n",
              "      <td>201</td>\n",
              "      <td>220</td>\n",
              "      <td>207</td>\n",
              "      <td>199</td>\n",
              "      <td>214</td>\n",
              "      <td>208</td>\n",
              "      <td>198</td>\n",
              "      <td>215</td>\n",
              "      <td>215</td>\n",
              "      <td>211</td>\n",
              "      <td>194</td>\n",
              "      <td>198</td>\n",
              "      <td>204</td>\n",
              "    </tr>\n",
              "    <tr>\n",
              "      <th>2</th>\n",
              "      <td>220</td>\n",
              "      <td>211</td>\n",
              "      <td>211</td>\n",
              "      <td>219</td>\n",
              "      <td>215</td>\n",
              "      <td>213</td>\n",
              "      <td>220</td>\n",
              "      <td>218</td>\n",
              "      <td>216</td>\n",
              "      <td>224</td>\n",
              "      <td>221</td>\n",
              "      <td>219</td>\n",
              "      <td>228</td>\n",
              "      <td>223</td>\n",
              "      <td>222</td>\n",
              "      <td>231</td>\n",
              "      <td>226</td>\n",
              "      <td>224</td>\n",
              "      <td>231</td>\n",
              "      <td>228</td>\n",
              "      <td>226</td>\n",
              "      <td>234</td>\n",
              "      <td>230</td>\n",
              "      <td>229</td>\n",
              "      <td>237</td>\n",
              "      <td>233</td>\n",
              "      <td>231</td>\n",
              "      <td>239</td>\n",
              "      <td>235</td>\n",
              "      <td>234</td>\n",
              "      <td>239</td>\n",
              "      <td>236</td>\n",
              "      <td>235</td>\n",
              "      <td>238</td>\n",
              "      <td>237</td>\n",
              "      <td>235</td>\n",
              "      <td>238</td>\n",
              "      <td>237</td>\n",
              "      <td>235</td>\n",
              "      <td>238</td>\n",
              "      <td>...</td>\n",
              "      <td>255</td>\n",
              "      <td>255</td>\n",
              "      <td>255</td>\n",
              "      <td>255</td>\n",
              "      <td>255</td>\n",
              "      <td>255</td>\n",
              "      <td>255</td>\n",
              "      <td>255</td>\n",
              "      <td>255</td>\n",
              "      <td>255</td>\n",
              "      <td>255</td>\n",
              "      <td>255</td>\n",
              "      <td>255</td>\n",
              "      <td>255</td>\n",
              "      <td>255</td>\n",
              "      <td>255</td>\n",
              "      <td>255</td>\n",
              "      <td>255</td>\n",
              "      <td>255</td>\n",
              "      <td>255</td>\n",
              "      <td>255</td>\n",
              "      <td>255</td>\n",
              "      <td>255</td>\n",
              "      <td>255</td>\n",
              "      <td>255</td>\n",
              "      <td>255</td>\n",
              "      <td>255</td>\n",
              "      <td>255</td>\n",
              "      <td>255</td>\n",
              "      <td>255</td>\n",
              "      <td>255</td>\n",
              "      <td>255</td>\n",
              "      <td>255</td>\n",
              "      <td>255</td>\n",
              "      <td>255</td>\n",
              "      <td>255</td>\n",
              "      <td>255</td>\n",
              "      <td>255</td>\n",
              "      <td>255</td>\n",
              "      <td>255</td>\n",
              "    </tr>\n",
              "    <tr>\n",
              "      <th>3</th>\n",
              "      <td>85</td>\n",
              "      <td>83</td>\n",
              "      <td>100</td>\n",
              "      <td>103</td>\n",
              "      <td>101</td>\n",
              "      <td>118</td>\n",
              "      <td>114</td>\n",
              "      <td>115</td>\n",
              "      <td>132</td>\n",
              "      <td>128</td>\n",
              "      <td>133</td>\n",
              "      <td>150</td>\n",
              "      <td>143</td>\n",
              "      <td>151</td>\n",
              "      <td>169</td>\n",
              "      <td>145</td>\n",
              "      <td>157</td>\n",
              "      <td>178</td>\n",
              "      <td>139</td>\n",
              "      <td>154</td>\n",
              "      <td>178</td>\n",
              "      <td>135</td>\n",
              "      <td>151</td>\n",
              "      <td>177</td>\n",
              "      <td>128</td>\n",
              "      <td>144</td>\n",
              "      <td>171</td>\n",
              "      <td>124</td>\n",
              "      <td>137</td>\n",
              "      <td>165</td>\n",
              "      <td>127</td>\n",
              "      <td>137</td>\n",
              "      <td>164</td>\n",
              "      <td>129</td>\n",
              "      <td>135</td>\n",
              "      <td>163</td>\n",
              "      <td>138</td>\n",
              "      <td>143</td>\n",
              "      <td>169</td>\n",
              "      <td>138</td>\n",
              "      <td>...</td>\n",
              "      <td>74</td>\n",
              "      <td>56</td>\n",
              "      <td>50</td>\n",
              "      <td>71</td>\n",
              "      <td>64</td>\n",
              "      <td>50</td>\n",
              "      <td>78</td>\n",
              "      <td>65</td>\n",
              "      <td>51</td>\n",
              "      <td>81</td>\n",
              "      <td>63</td>\n",
              "      <td>49</td>\n",
              "      <td>84</td>\n",
              "      <td>63</td>\n",
              "      <td>48</td>\n",
              "      <td>86</td>\n",
              "      <td>63</td>\n",
              "      <td>48</td>\n",
              "      <td>91</td>\n",
              "      <td>65</td>\n",
              "      <td>49</td>\n",
              "      <td>97</td>\n",
              "      <td>68</td>\n",
              "      <td>52</td>\n",
              "      <td>103</td>\n",
              "      <td>69</td>\n",
              "      <td>54</td>\n",
              "      <td>107</td>\n",
              "      <td>66</td>\n",
              "      <td>52</td>\n",
              "      <td>107</td>\n",
              "      <td>69</td>\n",
              "      <td>55</td>\n",
              "      <td>113</td>\n",
              "      <td>71</td>\n",
              "      <td>57</td>\n",
              "      <td>118</td>\n",
              "      <td>67</td>\n",
              "      <td>55</td>\n",
              "      <td>117</td>\n",
              "    </tr>\n",
              "    <tr>\n",
              "      <th>4</th>\n",
              "      <td>46</td>\n",
              "      <td>52</td>\n",
              "      <td>65</td>\n",
              "      <td>36</td>\n",
              "      <td>42</td>\n",
              "      <td>55</td>\n",
              "      <td>27</td>\n",
              "      <td>33</td>\n",
              "      <td>46</td>\n",
              "      <td>24</td>\n",
              "      <td>31</td>\n",
              "      <td>44</td>\n",
              "      <td>25</td>\n",
              "      <td>33</td>\n",
              "      <td>46</td>\n",
              "      <td>31</td>\n",
              "      <td>38</td>\n",
              "      <td>53</td>\n",
              "      <td>42</td>\n",
              "      <td>49</td>\n",
              "      <td>64</td>\n",
              "      <td>50</td>\n",
              "      <td>58</td>\n",
              "      <td>74</td>\n",
              "      <td>50</td>\n",
              "      <td>59</td>\n",
              "      <td>75</td>\n",
              "      <td>49</td>\n",
              "      <td>56</td>\n",
              "      <td>75</td>\n",
              "      <td>43</td>\n",
              "      <td>52</td>\n",
              "      <td>72</td>\n",
              "      <td>42</td>\n",
              "      <td>50</td>\n",
              "      <td>73</td>\n",
              "      <td>51</td>\n",
              "      <td>59</td>\n",
              "      <td>83</td>\n",
              "      <td>58</td>\n",
              "      <td>...</td>\n",
              "      <td>62</td>\n",
              "      <td>208</td>\n",
              "      <td>193</td>\n",
              "      <td>198</td>\n",
              "      <td>253</td>\n",
              "      <td>247</td>\n",
              "      <td>255</td>\n",
              "      <td>243</td>\n",
              "      <td>245</td>\n",
              "      <td>254</td>\n",
              "      <td>188</td>\n",
              "      <td>196</td>\n",
              "      <td>207</td>\n",
              "      <td>191</td>\n",
              "      <td>205</td>\n",
              "      <td>211</td>\n",
              "      <td>223</td>\n",
              "      <td>239</td>\n",
              "      <td>241</td>\n",
              "      <td>210</td>\n",
              "      <td>220</td>\n",
              "      <td>225</td>\n",
              "      <td>211</td>\n",
              "      <td>204</td>\n",
              "      <td>222</td>\n",
              "      <td>201</td>\n",
              "      <td>195</td>\n",
              "      <td>211</td>\n",
              "      <td>188</td>\n",
              "      <td>183</td>\n",
              "      <td>196</td>\n",
              "      <td>119</td>\n",
              "      <td>114</td>\n",
              "      <td>124</td>\n",
              "      <td>71</td>\n",
              "      <td>67</td>\n",
              "      <td>73</td>\n",
              "      <td>58</td>\n",
              "      <td>52</td>\n",
              "      <td>56</td>\n",
              "    </tr>\n",
              "  </tbody>\n",
              "</table>\n",
              "<p>5 rows × 12288 columns</p>\n",
              "</div>"
            ],
            "text/plain": [
              "    f0   f1   f2   f3   f4   f5  ...  f12282  f12283  f12284  f12285  f12286  f12287\n",
              "0  133   97   89  125   91   82  ...      30      25      26      31      26      27\n",
              "1  240  246  245  245  251  250  ...     215     215     211     194     198     204\n",
              "2  220  211  211  219  215  213  ...     255     255     255     255     255     255\n",
              "3   85   83  100  103  101  118  ...      71      57     118      67      55     117\n",
              "4   46   52   65   36   42   55  ...      71      67      73      58      52      56\n",
              "\n",
              "[5 rows x 12288 columns]"
            ]
          },
          "metadata": {
            "tags": []
          },
          "execution_count": 199
        }
      ]
    },
    {
      "cell_type": "code",
      "metadata": {
        "colab": {
          "base_uri": "https://localhost:8080/",
          "height": 1000
        },
        "id": "pVy6gXblP3PB",
        "outputId": "2929e64c-ef79-42e1-9ce0-a3b9278c9bcf"
      },
      "source": [
        "for i in range(1,6):\n",
        "  plt.figure(figsize=(5,5))\n",
        "  plt.imshow(np.array(x)[i].reshape(64,64,3))\n",
        "  plt.show()\n",
        "  plt.figure(figsize=(5,5))\n",
        "  plt.imshow(np.array(x)[-i].reshape(64,64,3))\n",
        "  plt.show()"
      ],
      "execution_count": null,
      "outputs": [
        {
          "output_type": "display_data",
          "data": {
            "image/png": "[encoded data removed]",
            "text/plain": [
              "<Figure size 360x360 with 1 Axes>"
            ]
          },
          "metadata": {
            "tags": [],
            "needs_background": "light"
          }
        },
        {
          "output_type": "display_data",
          "data": {
            "image/png": "[encoded data removed]",
            "text/plain": [
              "<Figure size 360x360 with 1 Axes>"
            ]
          },
          "metadata": {
            "tags": [],
            "needs_background": "light"
          }
        },
        {
          "output_type": "display_data",
          "data": {
            "image/png": "[encoded data removed]",
            "text/plain": [
              "<Figure size 360x360 with 1 Axes>"
            ]
          },
          "metadata": {
            "tags": [],
            "needs_background": "light"
          }
        },
        {
          "output_type": "display_data",
          "data": {
            "image/png": "[encoded data removed]",
            "text/plain": [
              "<Figure size 360x360 with 1 Axes>"
            ]
          },
          "metadata": {
            "tags": [],
            "needs_background": "light"
          }
        },
        {
          "output_type": "display_data",
          "data": {
            "image/png": "[encoded data removed]",
            "text/plain": [
              "<Figure size 360x360 with 1 Axes>"
            ]
          },
          "metadata": {
            "tags": [],
            "needs_background": "light"
          }
        },
        {
          "output_type": "display_data",
          "data": {
            "image/png": "[encoded data removed]",
            "text/plain": [
              "<Figure size 360x360 with 1 Axes>"
            ]
          },
          "metadata": {
            "tags": [],
            "needs_background": "light"
          }
        },
        {
          "output_type": "display_data",
          "data": {
            "image/png": "[encoded data removed]",
            "text/plain": [
              "<Figure size 360x360 with 1 Axes>"
            ]
          },
          "metadata": {
            "tags": [],
            "needs_background": "light"
          }
        },
        {
          "output_type": "display_data",
          "data": {
            "image/png": "[encoded data removed]",
            "text/plain": [
              "<Figure size 360x360 with 1 Axes>"
            ]
          },
          "metadata": {
            "tags": [],
            "needs_background": "light"
          }
        },
        {
          "output_type": "display_data",
          "data": {
            "image/png": "[encoded data removed]",
            "text/plain": [
              "<Figure size 360x360 with 1 Axes>"
            ]
          },
          "metadata": {
            "tags": [],
            "needs_background": "light"
          }
        },
        {
          "output_type": "display_data",
          "data": {
            "image/png": "[encoded data removed]",
            "text/plain": [
              "<Figure size 360x360 with 1 Axes>"
            ]
          },
          "metadata": {
            "tags": [],
            "needs_background": "light"
          }
        }
      ]
    },
    {
      "cell_type": "code",
      "metadata": {
        "id": "Qcn0dPTLNoVB"
      },
      "source": [
        "x_train, x_test, y_train, y_test = train_test_split(x, y, test_size=0.2, shuffle = True ,random_state=42)"
      ],
      "execution_count": null,
      "outputs": []
    },
    {
      "cell_type": "code",
      "metadata": {
        "colab": {
          "base_uri": "https://localhost:8080/"
        },
        "id": "JDGfWmailCun",
        "outputId": "8b79ff05-5c32-4a09-9041-78e5f7b9fe4a"
      },
      "source": [
        "print(np.unique(y_train , return_counts=True))\n",
        "print(np.unique(y_test,return_counts=True))"
      ],
      "execution_count": null,
      "outputs": [
        {
          "output_type": "stream",
          "text": [
            "(array([0, 1]), array([4020,  624]))\n",
            "(array([0, 1]), array([980, 181]))\n"
          ],
          "name": "stdout"
        }
      ]
    },
    {
      "cell_type": "code",
      "metadata": {
        "id": "HouBVxIbC4U1"
      },
      "source": [
        "#PCA conversion\n",
        "from sklearn.decomposition import PCA\n",
        "pca = PCA(0.95)\n",
        "x_trn = pca.fit_transform(x_train)\n",
        "x_tst = pca.transform(x_test)\n",
        "y_trn = y_train\n",
        "y_tst = y_test"
      ],
      "execution_count": null,
      "outputs": []
    },
    {
      "cell_type": "code",
      "metadata": {
        "id": "YvghLj9ikzW5"
      },
      "source": [
        "def give_roc(model,x_test,y_test):\n",
        "  a = model.predict(x_test)\n",
        "  fpr , tpr , _ = roc_curve(y_test,a)\n",
        "  plt.plot(fpr,tpr,label = f'auc = {auc(fpr,tpr)}')\n",
        "  plt.legend()\n",
        "  plt.show()\n"
      ],
      "execution_count": 243,
      "outputs": []
    },
    {
      "cell_type": "code",
      "metadata": {
        "id": "nBkdoBSODuLY"
      },
      "source": [
        "from sklearn.neural_network import MLPClassifier"
      ],
      "execution_count": null,
      "outputs": []
    },
    {
      "cell_type": "code",
      "metadata": {
        "id": "bMsIxCZIDuN3",
        "colab": {
          "base_uri": "https://localhost:8080/"
        },
        "outputId": "e0263e4c-5df5-45dc-8f37-7aaef98d52c8"
      },
      "source": [
        "clf1  = MLPClassifier()\n",
        "clf1.fit(x_trn,y_trn)"
      ],
      "execution_count": null,
      "outputs": [
        {
          "output_type": "execute_result",
          "data": {
            "text/plain": [
              "MLPClassifier(activation='relu', alpha=0.0001, batch_size='auto', beta_1=0.9,\n",
              "              beta_2=0.999, early_stopping=False, epsilon=1e-08,\n",
              "              hidden_layer_sizes=(100,), learning_rate='constant',\n",
              "              learning_rate_init=0.001, max_fun=15000, max_iter=200,\n",
              "              momentum=0.9, n_iter_no_change=10, nesterovs_momentum=True,\n",
              "              power_t=0.5, random_state=None, shuffle=True, solver='adam',\n",
              "              tol=0.0001, validation_fraction=0.1, verbose=False,\n",
              "              warm_start=False)"
            ]
          },
          "metadata": {
            "tags": []
          },
          "execution_count": 205
        }
      ]
    },
    {
      "cell_type": "code",
      "metadata": {
        "id": "LKMkcI0_DuQS",
        "colab": {
          "base_uri": "https://localhost:8080/"
        },
        "outputId": "a5c34857-b483-49f0-ad9a-8f9ddd310b23"
      },
      "source": [
        "print(\"Accuracy\",clf1.score(x_tst,y_tst))\n",
        "print(\"confusion matrix is \\n\",confusion_matrix(y_tst,clf1.predict(x_tst)))"
      ],
      "execution_count": null,
      "outputs": [
        {
          "output_type": "stream",
          "text": [
            "Accuracy 0.967269595176572\n",
            "confusion matrix is \n",
            " [[960  20]\n",
            " [ 18 163]]\n"
          ],
          "name": "stdout"
        }
      ]
    },
    {
      "cell_type": "code",
      "metadata": {
        "colab": {
          "base_uri": "https://localhost:8080/",
          "height": 320
        },
        "id": "_InEQGVvlg3a",
        "outputId": "1012f0a3-e2cf-4674-db26-952dc56cd167"
      },
      "source": [
        "give_roc(clf1,x_tst,y_tst)"
      ],
      "execution_count": 246,
      "outputs": [
        {
          "output_type": "display_data",
          "data": {
            "image/png": "[encoded data removed]",
            "text/plain": [
              "<Figure size 360x360 with 1 Axes>"
            ]
          },
          "metadata": {
            "tags": [],
            "needs_background": "light"
          }
        }
      ]
    },
    {
      "cell_type": "code",
      "metadata": {
        "colab": {
          "base_uri": "https://localhost:8080/"
        },
        "id": "7qJYrepFCLnb",
        "outputId": "eb017309-5598-4c45-e283-17fec5d33682"
      },
      "source": [
        "cv_score = cross_val_score(estimator=MLPClassifier(),X=x_trn,y=y_trn,cv=5)\n",
        "cv_score\n"
      ],
      "execution_count": null,
      "outputs": [
        {
          "output_type": "execute_result",
          "data": {
            "text/plain": [
              "array([0.94510226, 0.96340151, 0.95586652, 0.94510226, 0.95581897])"
            ]
          },
          "metadata": {
            "tags": []
          },
          "execution_count": 207
        }
      ]
    },
    {
      "cell_type": "code",
      "metadata": {
        "colab": {
          "base_uri": "https://localhost:8080/",
          "height": 390
        },
        "id": "CzMxs6AiDZUZ",
        "outputId": "f67b7468-fbac-45f4-fa8c-c12bb2860dbc"
      },
      "source": [
        "plt.figure(figsize=(5,5))\n",
        "sns.boxplot(cv_score)"
      ],
      "execution_count": null,
      "outputs": [
        {
          "output_type": "stream",
          "text": [
            "/usr/local/lib/python3.7/dist-packages/seaborn/_decorators.py:43: FutureWarning: Pass the following variable as a keyword arg: x. From version 0.12, the only valid positional argument will be `data`, and passing other arguments without an explicit keyword will result in an error or misinterpretation.\n",
            "  FutureWarning\n"
          ],
          "name": "stderr"
        },
        {
          "output_type": "execute_result",
          "data": {
            "text/plain": [
              "<matplotlib.axes._subplots.AxesSubplot at 0x7f3614e62350>"
            ]
          },
          "metadata": {
            "tags": []
          },
          "execution_count": 208
        },
        {
          "output_type": "display_data",
          "data": {
            "image/png": "[encoded data removed]",
            "text/plain": [
              "<Figure size 360x360 with 1 Axes>"
            ]
          },
          "metadata": {
            "tags": [],
            "needs_background": "light"
          }
        }
      ]
    },
    {
      "cell_type": "code",
      "metadata": {
        "id": "bbwt9b2QDuTT"
      },
      "source": [
        "from sklearn.neighbors import KNeighborsClassifier"
      ],
      "execution_count": null,
      "outputs": []
    },
    {
      "cell_type": "code",
      "metadata": {
        "id": "A7Uq4Vl7DuWA",
        "colab": {
          "base_uri": "https://localhost:8080/"
        },
        "outputId": "b5f98662-9b63-4ec4-9c47-3c25323d3b0e"
      },
      "source": [
        "clf2=KNeighborsClassifier(n_neighbors=12)\n",
        "clf2.fit(x_trn,y_trn)"
      ],
      "execution_count": null,
      "outputs": [
        {
          "output_type": "execute_result",
          "data": {
            "text/plain": [
              "KNeighborsClassifier(algorithm='auto', leaf_size=30, metric='minkowski',\n",
              "                     metric_params=None, n_jobs=None, n_neighbors=12, p=2,\n",
              "                     weights='uniform')"
            ]
          },
          "metadata": {
            "tags": []
          },
          "execution_count": 210
        }
      ]
    },
    {
      "cell_type": "code",
      "metadata": {
        "id": "hpXLqILUDuZX",
        "colab": {
          "base_uri": "https://localhost:8080/"
        },
        "outputId": "0eedbdcd-a085-4815-a38d-ebd2494d9ddc"
      },
      "source": [
        "print(\"Accuracy\",clf2.score(x_tst,y_tst))\n",
        "print(\"confusion matrix is \\n\",confusion_matrix(y_tst,clf2.predict(x_tst)))"
      ],
      "execution_count": null,
      "outputs": [
        {
          "output_type": "stream",
          "text": [
            "Accuracy 0.9069767441860465\n",
            "confusion matrix is \n",
            " [[980   0]\n",
            " [108  73]]\n"
          ],
          "name": "stdout"
        }
      ]
    },
    {
      "cell_type": "code",
      "metadata": {
        "colab": {
          "base_uri": "https://localhost:8080/",
          "height": 320
        },
        "id": "RmgogOgpltJE",
        "outputId": "47ac6d90-1e6f-46bd-932b-8094f72fc1b7"
      },
      "source": [
        "give_roc(clf2,x_tst,y_tst)"
      ],
      "execution_count": 247,
      "outputs": [
        {
          "output_type": "display_data",
          "data": {
            "image/png": "[encoded data removed]",
            "text/plain": [
              "<Figure size 360x360 with 1 Axes>"
            ]
          },
          "metadata": {
            "tags": [],
            "needs_background": "light"
          }
        }
      ]
    },
    {
      "cell_type": "code",
      "metadata": {
        "id": "DfG074dqDubS",
        "colab": {
          "base_uri": "https://localhost:8080/"
        },
        "outputId": "62fea2ac-a028-43c0-b2f4-e95c3d8bed57"
      },
      "source": [
        "estimators ={i:KNeighborsClassifier(n_neighbors=i) for i in range(5,50,5)}\n",
        "estimators"
      ],
      "execution_count": null,
      "outputs": [
        {
          "output_type": "execute_result",
          "data": {
            "text/plain": [
              "{5: KNeighborsClassifier(algorithm='auto', leaf_size=30, metric='minkowski',\n",
              "                      metric_params=None, n_jobs=None, n_neighbors=5, p=2,\n",
              "                      weights='uniform'),\n",
              " 10: KNeighborsClassifier(algorithm='auto', leaf_size=30, metric='minkowski',\n",
              "                      metric_params=None, n_jobs=None, n_neighbors=10, p=2,\n",
              "                      weights='uniform'),\n",
              " 15: KNeighborsClassifier(algorithm='auto', leaf_size=30, metric='minkowski',\n",
              "                      metric_params=None, n_jobs=None, n_neighbors=15, p=2,\n",
              "                      weights='uniform'),\n",
              " 20: KNeighborsClassifier(algorithm='auto', leaf_size=30, metric='minkowski',\n",
              "                      metric_params=None, n_jobs=None, n_neighbors=20, p=2,\n",
              "                      weights='uniform'),\n",
              " 25: KNeighborsClassifier(algorithm='auto', leaf_size=30, metric='minkowski',\n",
              "                      metric_params=None, n_jobs=None, n_neighbors=25, p=2,\n",
              "                      weights='uniform'),\n",
              " 30: KNeighborsClassifier(algorithm='auto', leaf_size=30, metric='minkowski',\n",
              "                      metric_params=None, n_jobs=None, n_neighbors=30, p=2,\n",
              "                      weights='uniform'),\n",
              " 35: KNeighborsClassifier(algorithm='auto', leaf_size=30, metric='minkowski',\n",
              "                      metric_params=None, n_jobs=None, n_neighbors=35, p=2,\n",
              "                      weights='uniform'),\n",
              " 40: KNeighborsClassifier(algorithm='auto', leaf_size=30, metric='minkowski',\n",
              "                      metric_params=None, n_jobs=None, n_neighbors=40, p=2,\n",
              "                      weights='uniform'),\n",
              " 45: KNeighborsClassifier(algorithm='auto', leaf_size=30, metric='minkowski',\n",
              "                      metric_params=None, n_jobs=None, n_neighbors=45, p=2,\n",
              "                      weights='uniform')}"
            ]
          },
          "metadata": {
            "tags": []
          },
          "execution_count": 237
        }
      ]
    },
    {
      "cell_type": "code",
      "metadata": {
        "id": "RwxQjDQyDudk"
      },
      "source": [
        "accuracy_list = []\n",
        "for C,model in estimators.items():\n",
        "  model.fit(x_trn,y_trn)\n",
        "  accuracy_list.append(model.score(x_tst,y_tst))"
      ],
      "execution_count": null,
      "outputs": []
    },
    {
      "cell_type": "code",
      "metadata": {
        "id": "AmgBwvlzDuf3",
        "colab": {
          "base_uri": "https://localhost:8080/",
          "height": 353
        },
        "outputId": "a028bf51-91d3-4f0e-c430-b7fbebd32cfd"
      },
      "source": [
        "plt.figure(figsize=(5,5))\n",
        "plt.plot(list(estimators.keys()),accuracy_list)\n",
        "plt.xlabel('C')\n",
        "plt.ylabel('accuracy')"
      ],
      "execution_count": null,
      "outputs": [
        {
          "output_type": "execute_result",
          "data": {
            "text/plain": [
              "Text(0, 0.5, 'accuracy')"
            ]
          },
          "metadata": {
            "tags": []
          },
          "execution_count": 239
        },
        {
          "output_type": "display_data",
          "data": {
            "image/png": "[encoded data removed]",
            "text/plain": [
              "<Figure size 360x360 with 1 Axes>"
            ]
          },
          "metadata": {
            "tags": [],
            "needs_background": "light"
          }
        }
      ]
    },
    {
      "cell_type": "code",
      "metadata": {
        "id": "EeBvCc0VDuig",
        "colab": {
          "base_uri": "https://localhost:8080/"
        },
        "outputId": "91c8e376-580d-4820-d5eb-e8027ff4cd1a"
      },
      "source": [
        "cv_score4 = cross_val_score(estimator=KNeighborsClassifier(n_neighbors=12),X=x_trn,y=y_trn,cv=5)\n",
        "cv_score4"
      ],
      "execution_count": null,
      "outputs": [
        {
          "output_type": "execute_result",
          "data": {
            "text/plain": [
              "array([0.90527449, 0.89881593, 0.90958019, 0.90204521, 0.90517241])"
            ]
          },
          "metadata": {
            "tags": []
          },
          "execution_count": 215
        }
      ]
    },
    {
      "cell_type": "code",
      "metadata": {
        "id": "AmBa7xDSDul2",
        "colab": {
          "base_uri": "https://localhost:8080/",
          "height": 390
        },
        "outputId": "83309856-2913-4348-c48c-1690991628f6"
      },
      "source": [
        "sns.boxplot(cv_score4)"
      ],
      "execution_count": null,
      "outputs": [
        {
          "output_type": "stream",
          "text": [
            "/usr/local/lib/python3.7/dist-packages/seaborn/_decorators.py:43: FutureWarning: Pass the following variable as a keyword arg: x. From version 0.12, the only valid positional argument will be `data`, and passing other arguments without an explicit keyword will result in an error or misinterpretation.\n",
            "  FutureWarning\n"
          ],
          "name": "stderr"
        },
        {
          "output_type": "execute_result",
          "data": {
            "text/plain": [
              "<matplotlib.axes._subplots.AxesSubplot at 0x7f3615ddfe10>"
            ]
          },
          "metadata": {
            "tags": []
          },
          "execution_count": 216
        },
        {
          "output_type": "display_data",
          "data": {
            "image/png": "[encoded data removed]",
            "text/plain": [
              "<Figure size 360x360 with 1 Axes>"
            ]
          },
          "metadata": {
            "tags": [],
            "needs_background": "light"
          }
        }
      ]
    },
    {
      "cell_type": "code",
      "metadata": {
        "id": "SLm-OgfxDwnF",
        "colab": {
          "base_uri": "https://localhost:8080/"
        },
        "outputId": "ea73c3ef-cb63-4a4d-a320-7e9658195de2"
      },
      "source": [
        ""
      ],
      "execution_count": null,
      "outputs": [
        {
          "output_type": "execute_result",
          "data": {
            "text/plain": [
              "(4644, 214)"
            ]
          },
          "metadata": {
            "tags": []
          },
          "execution_count": 217
        }
      ]
    },
    {
      "cell_type": "code",
      "metadata": {
        "id": "NapE9_y5Dwo5",
        "colab": {
          "base_uri": "https://localhost:8080/"
        },
        "outputId": "7d134d61-1209-4d0f-f3f8-8bd93be9ad04"
      },
      "source": [
        "x_tst.shape"
      ],
      "execution_count": null,
      "outputs": [
        {
          "output_type": "execute_result",
          "data": {
            "text/plain": [
              "(1161, 214)"
            ]
          },
          "metadata": {
            "tags": []
          },
          "execution_count": 218
        }
      ]
    },
    {
      "cell_type": "code",
      "metadata": {
        "id": "RFvjyyQZDwrZ"
      },
      "source": [
        "from sklearn.pipeline import Pipeline\n",
        "from sklearn.svm import SVC\n",
        "from sklearn.preprocessing import StandardScaler"
      ],
      "execution_count": null,
      "outputs": []
    },
    {
      "cell_type": "code",
      "metadata": {
        "id": "SwjpzFZIDwt3"
      },
      "source": [
        "svm_clf=Pipeline([\n",
        "    (\"standardscaler\",StandardScaler()),\n",
        "    ('svc',SVC(gamma=\"auto\",probability=True,kernel=\"rbf\",C=10,decision_function_shape='ovo'))])"
      ],
      "execution_count": null,
      "outputs": []
    },
    {
      "cell_type": "code",
      "metadata": {
        "id": "OPxc_Cc3DwwX",
        "colab": {
          "base_uri": "https://localhost:8080/"
        },
        "outputId": "8950de3f-9daa-4ce4-d769-5bdd2fa000ba"
      },
      "source": [
        "svm_clf.fit(x_trn,y_trn)"
      ],
      "execution_count": null,
      "outputs": [
        {
          "output_type": "execute_result",
          "data": {
            "text/plain": [
              "Pipeline(memory=None,\n",
              "         steps=[('standardscaler',\n",
              "                 StandardScaler(copy=True, with_mean=True, with_std=True)),\n",
              "                ('svc',\n",
              "                 SVC(C=10, break_ties=False, cache_size=200, class_weight=None,\n",
              "                     coef0=0.0, decision_function_shape='ovo', degree=3,\n",
              "                     gamma='auto', kernel='rbf', max_iter=-1, probability=True,\n",
              "                     random_state=None, shrinking=True, tol=0.001,\n",
              "                     verbose=False))],\n",
              "         verbose=False)"
            ]
          },
          "metadata": {
            "tags": []
          },
          "execution_count": 221
        }
      ]
    },
    {
      "cell_type": "code",
      "metadata": {
        "id": "g8M_UjBcDw0S",
        "colab": {
          "base_uri": "https://localhost:8080/"
        },
        "outputId": "0862da30-22f6-413e-c5e7-ab4370e6e836"
      },
      "source": [
        "print('Accuracy',svm_clf.score(x_tst,y_tst))\n",
        "print(\"confusion matrix is \\n\",confusion_matrix(y_tst,svm_clf.predict(x_tst)))"
      ],
      "execution_count": null,
      "outputs": [
        {
          "output_type": "stream",
          "text": [
            "Accuracy 0.9819121447028424\n",
            "confusion matrix is \n",
            " [[972   8]\n",
            " [ 13 168]]\n"
          ],
          "name": "stdout"
        }
      ]
    },
    {
      "cell_type": "code",
      "metadata": {
        "colab": {
          "base_uri": "https://localhost:8080/",
          "height": 320
        },
        "id": "cpJL5TpYlzfG",
        "outputId": "5db8a622-d3a7-4687-e0d9-3b8f6ad32403"
      },
      "source": [
        "give_roc(svm_clf,x_tst,y_tst)"
      ],
      "execution_count": 248,
      "outputs": [
        {
          "output_type": "display_data",
          "data": {
            "image/png": "[encoded data removed]",
            "text/plain": [
              "<Figure size 360x360 with 1 Axes>"
            ]
          },
          "metadata": {
            "tags": [],
            "needs_background": "light"
          }
        }
      ]
    },
    {
      "cell_type": "code",
      "metadata": {
        "colab": {
          "base_uri": "https://localhost:8080/"
        },
        "id": "z2rgMSKKdKXq",
        "outputId": "c4eda1f6-2d14-4858-f92d-14f18558f65a"
      },
      "source": [
        "cv_score1 = cross_val_score(estimator=svm_clf,X=x_trn,y=y_trn,cv=5)\n",
        "cv_score1"
      ],
      "execution_count": null,
      "outputs": [
        {
          "output_type": "execute_result",
          "data": {
            "text/plain": [
              "array([0.9795479 , 0.98062433, 0.98062433, 0.98170075, 0.9762931 ])"
            ]
          },
          "metadata": {
            "tags": []
          },
          "execution_count": 223
        }
      ]
    },
    {
      "cell_type": "code",
      "metadata": {
        "colab": {
          "base_uri": "https://localhost:8080/",
          "height": 390
        },
        "id": "yZODf4aAdS5U",
        "outputId": "a3fb69b8-3da2-4109-f900-2b1865c2d1d2"
      },
      "source": [
        "sns.boxplot(cv_score1)"
      ],
      "execution_count": null,
      "outputs": [
        {
          "output_type": "stream",
          "text": [
            "/usr/local/lib/python3.7/dist-packages/seaborn/_decorators.py:43: FutureWarning: Pass the following variable as a keyword arg: x. From version 0.12, the only valid positional argument will be `data`, and passing other arguments without an explicit keyword will result in an error or misinterpretation.\n",
            "  FutureWarning\n"
          ],
          "name": "stderr"
        },
        {
          "output_type": "execute_result",
          "data": {
            "text/plain": [
              "<matplotlib.axes._subplots.AxesSubplot at 0x7f361524e210>"
            ]
          },
          "metadata": {
            "tags": []
          },
          "execution_count": 224
        },
        {
          "output_type": "display_data",
          "data": {
            "image/png": "[encoded data removed]",
            "text/plain": [
              "<Figure size 360x360 with 1 Axes>"
            ]
          },
          "metadata": {
            "tags": [],
            "needs_background": "light"
          }
        }
      ]
    },
    {
      "cell_type": "code",
      "metadata": {
        "id": "U-MrGXYsDw10",
        "colab": {
          "base_uri": "https://localhost:8080/"
        },
        "outputId": "215171ea-5eca-4e41-b777-52a5bcb33c62"
      },
      "source": [
        "estimators ={i:Pipeline([(\"standardscaler\",StandardScaler()),('svc',SVC(gamma=\"auto\",kernel=\"rbf\",C=i,decision_function_shape='ovo'))]) for i in range(2,50,5)} #{'2':SVC(C=2),'3':SVC(C=3)}\n",
        "estimators"
      ],
      "execution_count": null,
      "outputs": [
        {
          "output_type": "execute_result",
          "data": {
            "text/plain": [
              "{2: Pipeline(memory=None,\n",
              "          steps=[('standardscaler',\n",
              "                  StandardScaler(copy=True, with_mean=True, with_std=True)),\n",
              "                 ('svc',\n",
              "                  SVC(C=2, break_ties=False, cache_size=200, class_weight=None,\n",
              "                      coef0=0.0, decision_function_shape='ovo', degree=3,\n",
              "                      gamma='auto', kernel='rbf', max_iter=-1, probability=False,\n",
              "                      random_state=None, shrinking=True, tol=0.001,\n",
              "                      verbose=False))],\n",
              "          verbose=False), 7: Pipeline(memory=None,\n",
              "          steps=[('standardscaler',\n",
              "                  StandardScaler(copy=True, with_mean=True, with_std=True)),\n",
              "                 ('svc',\n",
              "                  SVC(C=7, break_ties=False, cache_size=200, class_weight=None,\n",
              "                      coef0=0.0, decision_function_shape='ovo', degree=3,\n",
              "                      gamma='auto', kernel='rbf', max_iter=-1, probability=False,\n",
              "                      random_state=None, shrinking=True, tol=0.001,\n",
              "                      verbose=False))],\n",
              "          verbose=False), 12: Pipeline(memory=None,\n",
              "          steps=[('standardscaler',\n",
              "                  StandardScaler(copy=True, with_mean=True, with_std=True)),\n",
              "                 ('svc',\n",
              "                  SVC(C=12, break_ties=False, cache_size=200, class_weight=None,\n",
              "                      coef0=0.0, decision_function_shape='ovo', degree=3,\n",
              "                      gamma='auto', kernel='rbf', max_iter=-1, probability=False,\n",
              "                      random_state=None, shrinking=True, tol=0.001,\n",
              "                      verbose=False))],\n",
              "          verbose=False), 17: Pipeline(memory=None,\n",
              "          steps=[('standardscaler',\n",
              "                  StandardScaler(copy=True, with_mean=True, with_std=True)),\n",
              "                 ('svc',\n",
              "                  SVC(C=17, break_ties=False, cache_size=200, class_weight=None,\n",
              "                      coef0=0.0, decision_function_shape='ovo', degree=3,\n",
              "                      gamma='auto', kernel='rbf', max_iter=-1, probability=False,\n",
              "                      random_state=None, shrinking=True, tol=0.001,\n",
              "                      verbose=False))],\n",
              "          verbose=False), 22: Pipeline(memory=None,\n",
              "          steps=[('standardscaler',\n",
              "                  StandardScaler(copy=True, with_mean=True, with_std=True)),\n",
              "                 ('svc',\n",
              "                  SVC(C=22, break_ties=False, cache_size=200, class_weight=None,\n",
              "                      coef0=0.0, decision_function_shape='ovo', degree=3,\n",
              "                      gamma='auto', kernel='rbf', max_iter=-1, probability=False,\n",
              "                      random_state=None, shrinking=True, tol=0.001,\n",
              "                      verbose=False))],\n",
              "          verbose=False), 27: Pipeline(memory=None,\n",
              "          steps=[('standardscaler',\n",
              "                  StandardScaler(copy=True, with_mean=True, with_std=True)),\n",
              "                 ('svc',\n",
              "                  SVC(C=27, break_ties=False, cache_size=200, class_weight=None,\n",
              "                      coef0=0.0, decision_function_shape='ovo', degree=3,\n",
              "                      gamma='auto', kernel='rbf', max_iter=-1, probability=False,\n",
              "                      random_state=None, shrinking=True, tol=0.001,\n",
              "                      verbose=False))],\n",
              "          verbose=False), 32: Pipeline(memory=None,\n",
              "          steps=[('standardscaler',\n",
              "                  StandardScaler(copy=True, with_mean=True, with_std=True)),\n",
              "                 ('svc',\n",
              "                  SVC(C=32, break_ties=False, cache_size=200, class_weight=None,\n",
              "                      coef0=0.0, decision_function_shape='ovo', degree=3,\n",
              "                      gamma='auto', kernel='rbf', max_iter=-1, probability=False,\n",
              "                      random_state=None, shrinking=True, tol=0.001,\n",
              "                      verbose=False))],\n",
              "          verbose=False), 37: Pipeline(memory=None,\n",
              "          steps=[('standardscaler',\n",
              "                  StandardScaler(copy=True, with_mean=True, with_std=True)),\n",
              "                 ('svc',\n",
              "                  SVC(C=37, break_ties=False, cache_size=200, class_weight=None,\n",
              "                      coef0=0.0, decision_function_shape='ovo', degree=3,\n",
              "                      gamma='auto', kernel='rbf', max_iter=-1, probability=False,\n",
              "                      random_state=None, shrinking=True, tol=0.001,\n",
              "                      verbose=False))],\n",
              "          verbose=False), 42: Pipeline(memory=None,\n",
              "          steps=[('standardscaler',\n",
              "                  StandardScaler(copy=True, with_mean=True, with_std=True)),\n",
              "                 ('svc',\n",
              "                  SVC(C=42, break_ties=False, cache_size=200, class_weight=None,\n",
              "                      coef0=0.0, decision_function_shape='ovo', degree=3,\n",
              "                      gamma='auto', kernel='rbf', max_iter=-1, probability=False,\n",
              "                      random_state=None, shrinking=True, tol=0.001,\n",
              "                      verbose=False))],\n",
              "          verbose=False), 47: Pipeline(memory=None,\n",
              "          steps=[('standardscaler',\n",
              "                  StandardScaler(copy=True, with_mean=True, with_std=True)),\n",
              "                 ('svc',\n",
              "                  SVC(C=47, break_ties=False, cache_size=200, class_weight=None,\n",
              "                      coef0=0.0, decision_function_shape='ovo', degree=3,\n",
              "                      gamma='auto', kernel='rbf', max_iter=-1, probability=False,\n",
              "                      random_state=None, shrinking=True, tol=0.001,\n",
              "                      verbose=False))],\n",
              "          verbose=False)}"
            ]
          },
          "metadata": {
            "tags": []
          },
          "execution_count": 240
        }
      ]
    },
    {
      "cell_type": "code",
      "metadata": {
        "id": "Bzxx1g_yJeaV"
      },
      "source": [
        "from sklearn.metrics import accuracy_score\n",
        "accuracy_list = []\n",
        "for C,model in estimators.items():\n",
        "  model.fit(x_trn,y_trn)\n",
        "  a = model.predict(x_tst)\n",
        "  accuracy_list.append(accuracy_score(a,y_tst))"
      ],
      "execution_count": null,
      "outputs": []
    },
    {
      "cell_type": "code",
      "metadata": {
        "colab": {
          "base_uri": "https://localhost:8080/",
          "height": 351
        },
        "id": "YgOOwtUIJy8s",
        "outputId": "7cd7afe9-5892-4c80-f0d2-18e2b2c20fec"
      },
      "source": [
        "plt.figure(figsize=(5,5))\n",
        "plt.plot(list(estimators.keys()),accuracy_list)\n",
        "plt.xlabel('C')\n",
        "plt.ylabel('accuracy')"
      ],
      "execution_count": null,
      "outputs": [
        {
          "output_type": "execute_result",
          "data": {
            "text/plain": [
              "Text(0, 0.5, 'accuracy')"
            ]
          },
          "metadata": {
            "tags": []
          },
          "execution_count": 242
        },
        {
          "output_type": "display_data",
          "data": {
            "image/png": "[encoded data removed]",
            "text/plain": [
              "<Figure size 360x360 with 1 Axes>"
            ]
          },
          "metadata": {
            "tags": [],
            "needs_background": "light"
          }
        }
      ]
    },
    {
      "cell_type": "code",
      "metadata": {
        "id": "mO_KAB22LQ9n"
      },
      "source": [
        "from sklearn.ensemble import RandomForestClassifier"
      ],
      "execution_count": null,
      "outputs": []
    },
    {
      "cell_type": "code",
      "metadata": {
        "colab": {
          "base_uri": "https://localhost:8080/"
        },
        "id": "lQvENDk5LXz5",
        "outputId": "af4346d3-b0c7-44c3-8ef3-33d707b583a3"
      },
      "source": [
        "clfR= RandomForestClassifier(n_estimators=190)\n",
        "clfR.fit(x_trn,y_trn)"
      ],
      "execution_count": null,
      "outputs": [
        {
          "output_type": "execute_result",
          "data": {
            "text/plain": [
              "RandomForestClassifier(bootstrap=True, ccp_alpha=0.0, class_weight=None,\n",
              "                       criterion='gini', max_depth=None, max_features='auto',\n",
              "                       max_leaf_nodes=None, max_samples=None,\n",
              "                       min_impurity_decrease=0.0, min_impurity_split=None,\n",
              "                       min_samples_leaf=1, min_samples_split=2,\n",
              "                       min_weight_fraction_leaf=0.0, n_estimators=190,\n",
              "                       n_jobs=None, oob_score=False, random_state=None,\n",
              "                       verbose=0, warm_start=False)"
            ]
          },
          "metadata": {
            "tags": []
          },
          "execution_count": 229
        }
      ]
    },
    {
      "cell_type": "code",
      "metadata": {
        "colab": {
          "base_uri": "https://localhost:8080/"
        },
        "id": "Sc0hYGXWLYWp",
        "outputId": "a13c409c-d6e2-4661-a438-ff7cbc47556f"
      },
      "source": [
        "print(\"Acuuracy\",clfR.score(x_tst,y_tst))\n",
        "print(\"confusion matrix is \\n\",confusion_matrix(y_tst,clfR.predict(x_tst)))"
      ],
      "execution_count": null,
      "outputs": [
        {
          "output_type": "stream",
          "text": [
            "Acuuracy 0.9405684754521964\n",
            "confusion matrix is \n",
            " [[979   1]\n",
            " [ 68 113]]\n"
          ],
          "name": "stdout"
        }
      ]
    },
    {
      "cell_type": "code",
      "metadata": {
        "colab": {
          "base_uri": "https://localhost:8080/",
          "height": 320
        },
        "id": "jXUWmZill5Si",
        "outputId": "ab867f59-775e-4268-da1e-f3270e8e295f"
      },
      "source": [
        "give_roc(clfR,x_tst,y_tst)"
      ],
      "execution_count": 250,
      "outputs": [
        {
          "output_type": "display_data",
          "data": {
            "image/png": "[encoded data removed]",
            "text/plain": [
              "<Figure size 360x360 with 1 Axes>"
            ]
          },
          "metadata": {
            "tags": [],
            "needs_background": "light"
          }
        }
      ]
    },
    {
      "cell_type": "code",
      "metadata": {
        "colab": {
          "base_uri": "https://localhost:8080/"
        },
        "id": "kNcrQEzodcHB",
        "outputId": "55debec3-4b89-46e7-994c-83d6c32dde1e"
      },
      "source": [
        "cv_score2 = cross_val_score(estimator=RandomForestClassifier(n_estimators=190),X=x_trn,y=y_trn,cv=5)\n",
        "cv_score2"
      ],
      "execution_count": null,
      "outputs": [
        {
          "output_type": "execute_result",
          "data": {
            "text/plain": [
              "array([0.95048439, 0.94725511, 0.94617869, 0.93756728, 0.94288793])"
            ]
          },
          "metadata": {
            "tags": []
          },
          "execution_count": 231
        }
      ]
    },
    {
      "cell_type": "code",
      "metadata": {
        "colab": {
          "base_uri": "https://localhost:8080/",
          "height": 390
        },
        "id": "BnVz2gyUdi7S",
        "outputId": "6a89dc24-ca32-46c2-acec-4da035f215e3"
      },
      "source": [
        "sns.boxplot(cv_score2)"
      ],
      "execution_count": null,
      "outputs": [
        {
          "output_type": "stream",
          "text": [
            "/usr/local/lib/python3.7/dist-packages/seaborn/_decorators.py:43: FutureWarning: Pass the following variable as a keyword arg: x. From version 0.12, the only valid positional argument will be `data`, and passing other arguments without an explicit keyword will result in an error or misinterpretation.\n",
            "  FutureWarning\n"
          ],
          "name": "stderr"
        },
        {
          "output_type": "execute_result",
          "data": {
            "text/plain": [
              "<matplotlib.axes._subplots.AxesSubplot at 0x7f36270f7110>"
            ]
          },
          "metadata": {
            "tags": []
          },
          "execution_count": 232
        },
        {
          "output_type": "display_data",
          "data": {
            "image/png": "[encoded data removed]",
            "text/plain": [
              "<Figure size 360x360 with 1 Axes>"
            ]
          },
          "metadata": {
            "tags": [],
            "needs_background": "light"
          }
        }
      ]
    },
    {
      "cell_type": "code",
      "metadata": {
        "id": "GqStw4wqLYZh"
      },
      "source": [
        "est = {i:RandomForestClassifier(n_estimators = i) for i in range(50,300,20)}"
      ],
      "execution_count": null,
      "outputs": []
    },
    {
      "cell_type": "code",
      "metadata": {
        "id": "w_bJ6R68LYcY"
      },
      "source": [
        "l = []\n",
        "for i,estimator in est.items():\n",
        "  estimator.fit(x_trn,y_trn)\n",
        "  a = estimator.predict(x_tst)\n",
        "  l.append(accuracy_score(a,y_tst))"
      ],
      "execution_count": null,
      "outputs": []
    },
    {
      "cell_type": "code",
      "metadata": {
        "colab": {
          "base_uri": "https://localhost:8080/",
          "height": 352
        },
        "id": "4VecjNNJLYev",
        "outputId": "88d31ee0-88ab-444c-dd63-f7a50e4306ba"
      },
      "source": [
        "sns.lineplot(x=list(est.keys()),y=l)\n",
        "plt.xlabel('n_estimators')\n",
        "plt.ylabel('accuracy')"
      ],
      "execution_count": null,
      "outputs": [
        {
          "output_type": "execute_result",
          "data": {
            "text/plain": [
              "Text(0, 0.5, 'accuracy')"
            ]
          },
          "metadata": {
            "tags": []
          },
          "execution_count": 235
        },
        {
          "output_type": "display_data",
          "data": {
            "image/png": "[encoded data removed]",
            "text/plain": [
              "<Figure size 360x360 with 1 Axes>"
            ]
          },
          "metadata": {
            "tags": [],
            "needs_background": "light"
          }
        }
      ]
    },
    {
      "cell_type": "code",
      "metadata": {
        "id": "JdRKnWNVLYg_"
      },
      "source": [
        ""
      ],
      "execution_count": null,
      "outputs": []
    },
    {
      "cell_type": "code",
      "metadata": {
        "id": "gNI4rNItLYjc"
      },
      "source": [
        ""
      ],
      "execution_count": null,
      "outputs": []
    },
    {
      "cell_type": "code",
      "metadata": {
        "id": "9u3_pczlLYmO"
      },
      "source": [
        ""
      ],
      "execution_count": null,
      "outputs": []
    }
  ]
}